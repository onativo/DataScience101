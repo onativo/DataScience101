{
 "cells": [
  {
   "cell_type": "code",
   "execution_count": 1,
   "metadata": {},
   "outputs": [],
   "source": [
    "import pandas as pd"
   ]
  },
  {
   "cell_type": "code",
   "execution_count": 3,
   "metadata": {},
   "outputs": [],
   "source": [
    "students = ['Alice', 'Jack', 'Molly']"
   ]
  },
  {
   "cell_type": "code",
   "execution_count": 4,
   "metadata": {},
   "outputs": [
    {
     "data": {
      "text/plain": [
       "0    Alice\n",
       "1     Jack\n",
       "2    Molly\n",
       "dtype: object"
      ]
     },
     "execution_count": 4,
     "metadata": {},
     "output_type": "execute_result"
    }
   ],
   "source": [
    "#uma das formas mais fáceis de criar uma série com o pandas é usando pd.Series()\n",
    "\n",
    "pd.Series(students)\n",
    "#o resultado é um objeto em série que o pandas automaticamente identifica o tipo de dado da série com objeto"
   ]
  },
  {
   "cell_type": "code",
   "execution_count": 5,
   "metadata": {},
   "outputs": [
    {
     "data": {
      "text/plain": [
       "0    1\n",
       "1    2\n",
       "2    3\n",
       "3    4\n",
       "dtype: int64"
      ]
     },
     "execution_count": 5,
     "metadata": {},
     "output_type": "execute_result"
    }
   ],
   "source": [
    "numbers = [1,2,3,4]\n",
    "pd.Series(numbers)"
   ]
  },
  {
   "cell_type": "code",
   "execution_count": 6,
   "metadata": {},
   "outputs": [
    {
     "data": {
      "text/plain": [
       "0    1.5\n",
       "1    1.8\n",
       "2    2.6\n",
       "dtype: float64"
      ]
     },
     "execution_count": 6,
     "metadata": {},
     "output_type": "execute_result"
    }
   ],
   "source": [
    "flo = [1.5,1.8,2.6]\n",
    "pd.Series(flo)"
   ]
  },
  {
   "cell_type": "code",
   "execution_count": 9,
   "metadata": {},
   "outputs": [
    {
     "data": {
      "text/plain": [
       "True"
      ]
     },
     "execution_count": 9,
     "metadata": {},
     "output_type": "execute_result"
    }
   ],
   "source": [
    "#NaN não é equialente a None\n",
    "import numpy as np\n",
    "np.nan === None"
   ]
  },
  {
   "cell_type": "code",
   "execution_count": 10,
   "metadata": {},
   "outputs": [
    {
     "data": {
      "text/plain": [
       "True"
      ]
     },
     "execution_count": 10,
     "metadata": {},
     "output_type": "execute_result"
    }
   ],
   "source": [
    "#para testar a presença de um NaN é preciso uma library do Numpy, isnan()\n",
    "np.isnan(np.nan)"
   ]
  },
  {
   "cell_type": "code",
   "execution_count": 13,
   "metadata": {},
   "outputs": [
    {
     "data": {
      "text/plain": [
       "Alice     Fisica\n",
       "Jack     Química\n",
       "Molly     Inglês\n",
       "dtype: object"
      ]
     },
     "execution_count": 13,
     "metadata": {},
     "output_type": "execute_result"
    }
   ],
   "source": [
    "students_scores = {'Alice': 'Fisica', \n",
    "                   'Jack': 'Química', \n",
    "                   'Molly': 'Inglês'}\n",
    "s = pd.Series(students_scores)\n",
    "s"
   ]
  },
  {
   "cell_type": "code",
   "execution_count": 17,
   "metadata": {},
   "outputs": [
    {
     "data": {
      "text/plain": [
       "array(['Fisica', 'Química', 'Inglês'], dtype=object)"
      ]
     },
     "execution_count": 17,
     "metadata": {},
     "output_type": "execute_result"
    }
   ],
   "source": [
    "s.values"
   ]
  },
  {
   "cell_type": "code",
   "execution_count": 18,
   "metadata": {},
   "outputs": [
    {
     "data": {
      "text/plain": [
       "0    (Jack, White)\n",
       "1     (Steve, Ray)\n",
       "2     (John, Cena)\n",
       "dtype: object"
      ]
     },
     "execution_count": 18,
     "metadata": {},
     "output_type": "execute_result"
    }
   ],
   "source": [
    "#um objeto dtype não é só para strings, mas para objetos arbitrários\n",
    "students = [('Jack', 'White'), ('Steve', 'Ray'), ('John', 'Cena')]\n",
    "pd.Series(students)"
   ]
  },
  {
   "cell_type": "code",
   "execution_count": 19,
   "metadata": {},
   "outputs": [
    {
     "data": {
      "text/plain": [
       "Jack      Física\n",
       "Steve    Química\n",
       "John      Inglês\n",
       "dtype: object"
      ]
     },
     "execution_count": 19,
     "metadata": {},
     "output_type": "execute_result"
    }
   ],
   "source": [
    "#da pra criar seu próprio index, passando o index como uma lista explicita para a série\n",
    "s = pd.Series(['Física', 'Química', 'Inglês'], index = ['Jack', 'Steve', 'John'])\n",
    "s"
   ]
  },
  {
   "cell_type": "code",
   "execution_count": 20,
   "metadata": {},
   "outputs": [
    {
     "data": {
      "text/plain": [
       "Alice    Fisica\n",
       "Molly    Inglês\n",
       "Sam         NaN\n",
       "dtype: object"
      ]
     },
     "execution_count": 20,
     "metadata": {},
     "output_type": "execute_result"
    }
   ],
   "source": [
    "#e daí o que acontece se a sua lista não está alinhada com as chaves do dicionário?\n",
    "#o pandas sobrescreve a criação automática da série para favorecer todos os indices que você proveu\n",
    "#então ele ignora todas as chaves do seu dicionári oque não estão no seu index, e adiciona um NONE ou NAN\n",
    "#para todos os tipos de indexes que você inseriu e que não estão na lista de chaves do seu dicionário\n",
    "\n",
    "students_scores = {'Alice': 'Fisica', \n",
    "                   'Jack': 'Química', \n",
    "                   'Molly': 'Inglês'}\n",
    "s = pd.Series(students_scores, index = ['Alice', 'Molly', 'Sam'])\n",
    "s"
   ]
  },
  {
   "cell_type": "markdown",
   "metadata": {},
   "source": [
    "# Query and merge series objects together"
   ]
  },
  {
   "cell_type": "code",
   "execution_count": null,
   "metadata": {},
   "outputs": [],
   "source": [
    "#uma série do pandas pode ser consultada tanto pela posição do index quanto pelo nome do index. se não der\n",
    "#um index quando consultando, a posição e a legenda são a mesma. para fazer uma consulta pela posição numérica,\n",
    "#começando do zero 0, usa-se o atributo 'iloc'. para consultar pela legenda, usase o atributo 'loc'\n",
    "\n",
    "#começando com um exemplo de alunos matriculados em cursos\n",
    "\n"
   ]
  },
  {
   "cell_type": "code",
   "execution_count": 2,
   "metadata": {},
   "outputs": [
    {
     "data": {
      "text/plain": [
       "Alice     Fisica\n",
       "Jack     Química\n",
       "Molly     Inglês\n",
       "Sam      History\n",
       "dtype: object"
      ]
     },
     "execution_count": 2,
     "metadata": {},
     "output_type": "execute_result"
    }
   ],
   "source": [
    "students_classes = {'Alice': 'Fisica', \n",
    "                   'Jack': 'Química', \n",
    "                   'Molly': 'Inglês',\n",
    "                   'Sam': 'History'}\n",
    "s = pd.Series(students_classes)\n",
    "s"
   ]
  },
  {
   "cell_type": "code",
   "execution_count": 4,
   "metadata": {},
   "outputs": [
    {
     "data": {
      "text/plain": [
       "'History'"
      ]
     },
     "execution_count": 4,
     "metadata": {},
     "output_type": "execute_result"
    }
   ],
   "source": [
    "#para a série acima, podemos consultar o 4° valor usado o atributo iloc com o número 3\n",
    "s.iloc[3]"
   ]
  },
  {
   "cell_type": "code",
   "execution_count": 5,
   "metadata": {},
   "outputs": [
    {
     "data": {
      "text/plain": [
       "'Inglês'"
      ]
     },
     "execution_count": 5,
     "metadata": {},
     "output_type": "execute_result"
    }
   ],
   "source": [
    "#se quisermos ver qual o curso da Molly, usamos o atributo loc com o parâmetro Molly\n",
    "s.loc['Molly']"
   ]
  },
  {
   "cell_type": "code",
   "execution_count": null,
   "metadata": {},
   "outputs": [],
   "source": [
    "#o loc e o iloc não são métodos, são atributos, portanto não usa-se o partânteses () para chamá-los, mas colchetes []\n",
    "#que são chamados de operadores de indexação"
   ]
  },
  {
   "cell_type": "code",
   "execution_count": 6,
   "metadata": {},
   "outputs": [
    {
     "data": {
      "text/plain": [
       "'History'"
      ]
     },
     "execution_count": 6,
     "metadata": {},
     "output_type": "execute_result"
    }
   ],
   "source": [
    "#o pandas tenta manter o código bonitinho e usa vários truques para facilitar a syntax\n",
    "#então podemos chamar o operador de indexação da série de forma mais direta.\n",
    "#por exemplo, se você passar um parâmetro integer, ele vai ver que você quer o iloc\n",
    "s[3]"
   ]
  },
  {
   "cell_type": "code",
   "execution_count": 7,
   "metadata": {},
   "outputs": [
    {
     "data": {
      "text/plain": [
       "'Inglês'"
      ]
     },
     "execution_count": 7,
     "metadata": {},
     "output_type": "execute_result"
    }
   ],
   "source": [
    "#se você passar um parâmetro objeto, ele vai ver que você quer o 'loc'\n",
    "s['Molly']"
   ]
  },
  {
   "cell_type": "code",
   "execution_count": 9,
   "metadata": {},
   "outputs": [
    {
     "data": {
      "text/plain": [
       "99      Fisica\n",
       "100    Química\n",
       "101     Inglês\n",
       "102    History\n",
       "dtype: object"
      ]
     },
     "execution_count": 9,
     "metadata": {},
     "output_type": "execute_result"
    }
   ],
   "source": [
    "#mas daí o que acontece se você criar uma série de números inteiros como indexadores?\n",
    "#o pandas não consegue determinar automaticamente se você quer fazer uma consulta pelo label ou pelo index\n",
    "#a opção mais segura é ser mais explicito e usar o iloc ou loc atributos com [] colchetes\n",
    "\n",
    "#aqui um exemplo usando class e classcode, onde classes são indexadas pelo classcode na forma de inteiros\n",
    "class_code = {99: 'Fisica', \n",
    "              100: 'Química', \n",
    "              101: 'Inglês', \n",
    "              102: 'History'}\n",
    "s = pd.Series(class_code)\n",
    "s"
   ]
  },
  {
   "cell_type": "code",
   "execution_count": 14,
   "metadata": {},
   "outputs": [
    {
     "data": {
      "text/plain": [
       "'History'"
      ]
     },
     "execution_count": 14,
     "metadata": {},
     "output_type": "execute_result"
    }
   ],
   "source": [
    "s.iloc[3]"
   ]
  },
  {
   "cell_type": "code",
   "execution_count": null,
   "metadata": {},
   "outputs": [],
   "source": [
    "#uma tarefa comum quando se trabalhando com os dados de uma série é considerar todos os valores dentro de uma série\n",
    "#e fazer albuma operação, tanto para achar um número,somar os valores ou transformar os dados de alguma forma"
   ]
  },
  {
   "cell_type": "code",
   "execution_count": 16,
   "metadata": {},
   "outputs": [
    {
     "name": "stdout",
     "output_type": "stream",
     "text": [
      "75.0\n"
     ]
    }
   ],
   "source": [
    "#uma abordagem de programação para isso seria iterar sobre todos os itens da série e fazer uma operação desejada.\n",
    "#por exemplo, podemos criar uma série de números inteiros representando a nota de alunos e achar um valor médio\n",
    "\n",
    "grades = pd.Series([90, 80, 70, 60])\n",
    "total = 0\n",
    "for grade in grades:\n",
    "    total += grade\n",
    "print(total/len(grades))"
   ]
  },
  {
   "cell_type": "code",
   "execution_count": 21,
   "metadata": {},
   "outputs": [
    {
     "name": "stdout",
     "output_type": "stream",
     "text": [
      "75.0\n"
     ]
    }
   ],
   "source": [
    "#baixo é como se faria o código usando o método sum do numpy\n",
    "import numpy as np\n",
    "\n",
    "#agora chamamos np.sum e passamos como atributo a nossa série do pandas\n",
    "total = np.sum(grades)\n",
    "print(total/len(grades))     #essse código faz a mesma coisa que o de cima"
   ]
  },
  {
   "cell_type": "code",
   "execution_count": null,
   "metadata": {},
   "outputs": [],
   "source": [
    "#os dois métodos fazem a mesma coisa, mas é um mais rápido que o outro?\n",
    "#o júpiter notebook tem uma função mágica que pode ajudar\n",
    "\n",
    "#primeiro criamos uma série bem grande de números aleatórios, isso é usado quando demostrando técnicas com o Pandas\n"
   ]
  },
  {
   "cell_type": "code",
   "execution_count": 42,
   "metadata": {},
   "outputs": [
    {
     "data": {
      "text/plain": [
       "0    352\n",
       "1    423\n",
       "2    185\n",
       "3    131\n",
       "4    439\n",
       "dtype: int64"
      ]
     },
     "execution_count": 42,
     "metadata": {},
     "output_type": "execute_result"
    }
   ],
   "source": [
    "numbers = pd.Series(np.random.randint(0,1000,10000)) #me crie dez mil números de 0 a 1000\n",
    "numbers.head()"
   ]
  },
  {
   "cell_type": "code",
   "execution_count": 40,
   "metadata": {},
   "outputs": [
    {
     "data": {
      "text/plain": [
       "10000"
      ]
     },
     "execution_count": 40,
     "metadata": {},
     "output_type": "execute_result"
    }
   ],
   "source": [
    "len(numbers)"
   ]
  },
  {
   "cell_type": "code",
   "execution_count": null,
   "metadata": {},
   "outputs": [],
   "source": [
    "#o interpretador ipython tem uma coisa chamada funções mágicas que começam com um símbolo de %\n",
    "#se digitarmos esse código e apertarmos o botão tab, veremos uma lista de funções mágiocas que podemos usar"
   ]
  },
  {
   "cell_type": "code",
   "execution_count": null,
   "metadata": {},
   "outputs": [],
   "source": [
    "#aqui vamos usar uma função mágica celular. ela começa com dois %%. o nome dela é timeit. Essa função vai rodar\n",
    "#o código algumas vezes para determinar o tempo médio de execução\n",
    "\n"
   ]
  },
  {
   "cell_type": "code",
   "execution_count": null,
   "metadata": {},
   "outputs": [],
   "source": [
    "#vamos rodar primeiro com o primeiro código. podemos dar para a timeit o número de loops que quisermos, por default é 1mil\n",
    "#para rodar, ela precisa ser escrita na primeira linha da célula"
   ]
  },
  {
   "cell_type": "code",
   "execution_count": 31,
   "metadata": {},
   "outputs": [
    {
     "name": "stdout",
     "output_type": "stream",
     "text": [
      "1.11 ms ± 19.7 µs per loop (mean ± std. dev. of 7 runs, 1000 loops each)\n"
     ]
    }
   ],
   "source": [
    "%%timeit -n 1000\n",
    "total = 0\n",
    "for number in numbers:\n",
    "    total += number\n",
    "total/len(numbers)"
   ]
  },
  {
   "cell_type": "code",
   "execution_count": null,
   "metadata": {},
   "outputs": [],
   "source": [
    "#agora vamos tentar com vetorização\n"
   ]
  },
  {
   "cell_type": "code",
   "execution_count": 32,
   "metadata": {},
   "outputs": [
    {
     "name": "stdout",
     "output_type": "stream",
     "text": [
      "66.8 µs ± 564 ns per loop (mean ± std. dev. of 7 runs, 1000 loops each)\n"
     ]
    }
   ],
   "source": [
    "%%timeit -n 1000\n",
    "total = np.sum(numbers)\n",
    "total/len(numbers)     #essse código faz a mesma coisa que o de cima"
   ]
  },
  {
   "cell_type": "code",
   "execution_count": null,
   "metadata": {},
   "outputs": [],
   "source": []
  },
  {
   "cell_type": "code",
   "execution_count": 43,
   "metadata": {},
   "outputs": [
    {
     "data": {
      "text/plain": [
       "0    352\n",
       "1    423\n",
       "2    185\n",
       "3    131\n",
       "4    439\n",
       "dtype: int64"
      ]
     },
     "execution_count": 43,
     "metadata": {},
     "output_type": "execute_result"
    }
   ],
   "source": [
    "#uma coisa relacionada entre pandas e numpy é o broadcasting, com ele podemos aplicar uma operação para cada valor da série,\n",
    "#mudando a série. por exemplo, se quisermos aumentar em 2 cada valor aleatório, poderíamos fazer rapidamente\n",
    "#usando o operador += diretamente na série do objeto\n",
    "\n",
    "numbers.head()\n",
    "#agora vamos adicionar 2 números a todos os valores"
   ]
  },
  {
   "cell_type": "code",
   "execution_count": 44,
   "metadata": {},
   "outputs": [],
   "source": [
    "numbers+=2"
   ]
  },
  {
   "cell_type": "code",
   "execution_count": 45,
   "metadata": {},
   "outputs": [
    {
     "data": {
      "text/plain": [
       "0    354\n",
       "1    425\n",
       "2    187\n",
       "3    133\n",
       "4    441\n",
       "dtype: int64"
      ]
     },
     "execution_count": 45,
     "metadata": {},
     "output_type": "execute_result"
    }
   ],
   "source": [
    "numbers.head()"
   ]
  },
  {
   "cell_type": "code",
   "execution_count": 48,
   "metadata": {},
   "outputs": [
    {
     "data": {
      "text/plain": [
       "0    356\n",
       "1    427\n",
       "2    189\n",
       "3    135\n",
       "4    443\n",
       "dtype: int64"
      ]
     },
     "execution_count": 48,
     "metadata": {},
     "output_type": "execute_result"
    }
   ],
   "source": [
    "#uma maneira de fazer isso seria iterando sobre os valores de todos os números da série acrescentando 2 a cada um deles\n",
    "#o panda suporta fazer isso atrvés de uma série como um dicionário, permitindo desenpacotar valores facilmente\n",
    "\n",
    "#oderíamos usar a função iteritems() que retorna um label e valor\n",
    "for label, value in numbers.iteritems():\n",
    "    numbers.set_value(label, value+2)\n",
    "numbers.head()"
   ]
  },
  {
   "cell_type": "code",
   "execution_count": null,
   "metadata": {},
   "outputs": [],
   "source": [
    "#agora vamos ver a velocidade entre as duas opções"
   ]
  },
  {
   "cell_type": "code",
   "execution_count": 69,
   "metadata": {},
   "outputs": [
    {
     "name": "stdout",
     "output_type": "stream",
     "text": [
      "-15.3 ns ± 13.3 ns per loop (mean ± std. dev. of 7 runs, -10 loops each)\n"
     ]
    }
   ],
   "source": [
    "%%timeit -n -10\n",
    "s = pd.Series(np.random.randint(0, 1000, 10000))\n",
    "for label, value in s.iteritems():\n",
    "    s.loc[label] = value + 2"
   ]
  },
  {
   "cell_type": "code",
   "execution_count": 70,
   "metadata": {},
   "outputs": [
    {
     "name": "stdout",
     "output_type": "stream",
     "text": [
      "-11.9 ns ± 6.92 ns per loop (mean ± std. dev. of 7 runs, -10 loops each)\n"
     ]
    }
   ],
   "source": [
    "%%timeit -n -10\n",
    "s = pd.Series(np.random.randint(0, 1000, 10000))\n",
    "s+=2\n",
    "\n",
    "#agora usando o broadcasting"
   ]
  },
  {
   "cell_type": "code",
   "execution_count": null,
   "metadata": {},
   "outputs": [],
   "source": []
  },
  {
   "cell_type": "code",
   "execution_count": null,
   "metadata": {},
   "outputs": [],
   "source": [
    "#o atributo .loc[] deixa você, não apenas modificar os dados num lugar, ams também adicionar novos dados\n",
    "#se o valor que você passar não existir então uma nova entrada é adicionada.\n",
    "#indices podem ter tipos misturados"
   ]
  },
  {
   "cell_type": "code",
   "execution_count": 71,
   "metadata": {},
   "outputs": [
    {
     "data": {
      "text/plain": [
       "0             1\n",
       "1             2\n",
       "2             3\n",
       "História    102\n",
       "dtype: int64"
      ]
     },
     "execution_count": 71,
     "metadata": {},
     "output_type": "execute_result"
    }
   ],
   "source": [
    "#criando um exemplo usando Serie e alguns números\n",
    "s = pd.Series([1,2,3])\n",
    "\n",
    "#agora dicionamos um novo valor que não existe na série\n",
    "s.loc['História'] = 102\n",
    "\n",
    "s"
   ]
  },
  {
   "cell_type": "code",
   "execution_count": null,
   "metadata": {},
   "outputs": [],
   "source": []
  },
  {
   "cell_type": "code",
   "execution_count": null,
   "metadata": {},
   "outputs": [],
   "source": [
    "#como 'história' não estava na série original, ele cria uma nova entrada na série com o valor que passamos 102"
   ]
  },
  {
   "cell_type": "code",
   "execution_count": 73,
   "metadata": {},
   "outputs": [
    {
     "data": {
      "text/plain": [
       "Alice     Fisica\n",
       "Jack     Química\n",
       "Molly     Inglês\n",
       "Sam      History\n",
       "dtype: object"
      ]
     },
     "execution_count": 73,
     "metadata": {},
     "output_type": "execute_result"
    }
   ],
   "source": [
    "#aqui vai um exemplo onde os indexadores da série não são únicos, isso daí torna a série do pandas um pouco diferente\n",
    "#de um banco de dados relacional\n",
    "\n",
    "#vamos criar uma série onde estudantes e os cursos que fazem\n",
    "\n",
    "students_classes = pd.Series({'Alice': 'Fisica', \n",
    "                   'Jack': 'Química', \n",
    "                   'Molly': 'Inglês',\n",
    "                   'Sam': 'History'})\n",
    "students_classes"
   ]
  },
  {
   "cell_type": "code",
   "execution_count": 74,
   "metadata": {},
   "outputs": [
    {
     "data": {
      "text/plain": [
       "Kelly    Filosofia\n",
       "Kelly        Artes\n",
       "Kelly         Math\n",
       "dtype: object"
      ]
     },
     "execution_count": 74,
     "metadata": {},
     "output_type": "execute_result"
    }
   ],
   "source": [
    "#agora vamos criar uma nova série só para a aluna Kelly, que lista todos os cursos que ela já fez, vamos setar o index\n",
    "#para Kelly e os dados para ser o nome dos cursos\n",
    "kelly_classes = pd.Series(['Filosofia', 'Artes', 'Math'], index=['Kelly', 'Kelly', 'Kelly'])\n",
    "kelly_classes"
   ]
  },
  {
   "cell_type": "code",
   "execution_count": 75,
   "metadata": {},
   "outputs": [
    {
     "data": {
      "text/plain": [
       "Alice       Fisica\n",
       "Jack       Química\n",
       "Molly       Inglês\n",
       "Sam        History\n",
       "Kelly    Filosofia\n",
       "Kelly        Artes\n",
       "Kelly         Math\n",
       "dtype: object"
      ]
     },
     "execution_count": 75,
     "metadata": {},
     "output_type": "execute_result"
    }
   ],
   "source": [
    "#agora podemos dar um .append() nessa ultima série para a primeira série\n",
    "all_students = students_classes.append(kelly_classes)\n",
    "all_students\n"
   ]
  },
  {
   "cell_type": "code",
   "execution_count": 76,
   "metadata": {},
   "outputs": [
    {
     "data": {
      "text/plain": [
       "Kelly    Filosofia\n",
       "Kelly        Artes\n",
       "Kelly         Math\n",
       "dtype: object"
      ]
     },
     "execution_count": 76,
     "metadata": {},
     "output_type": "execute_result"
    }
   ],
   "source": [
    "#agora se formos consultar a série all_students por Kelly, teremos de volta todos os valores referentes a ela\n",
    "all_students.loc['Kelly']"
   ]
  },
  {
   "cell_type": "code",
   "execution_count": null,
   "metadata": {},
   "outputs": [],
   "source": []
  },
  {
   "cell_type": "code",
   "execution_count": null,
   "metadata": {},
   "outputs": [],
   "source": []
  }
 ],
 "metadata": {
  "kernelspec": {
   "display_name": "Python 3",
   "language": "python",
   "name": "python3"
  },
  "language_info": {
   "codemirror_mode": {
    "name": "ipython",
    "version": 3
   },
   "file_extension": ".py",
   "mimetype": "text/x-python",
   "name": "python",
   "nbconvert_exporter": "python",
   "pygments_lexer": "ipython3",
   "version": "3.7.3"
  }
 },
 "nbformat": 4,
 "nbformat_minor": 2
}
