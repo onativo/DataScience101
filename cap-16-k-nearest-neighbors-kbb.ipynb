{
 "cells": [
  {
   "cell_type": "markdown",
   "id": "483bc6f3",
   "metadata": {
    "papermill": {
     "duration": 0.003733,
     "end_time": "2022-12-22T21:21:17.702568",
     "exception": false,
     "start_time": "2022-12-22T21:21:17.698835",
     "status": "completed"
    },
    "tags": []
   },
   "source": [
    "## K-Nearest Neighbors (KNN)\n",
    "\n",
    "O algoritmo começa selecionando os K vizinhos mais próximos a um novo item que será incluído no conjunto. Para isso, é importante que sejam definidos antecipadamente:\n",
    "\n",
    "- Uma função de distância, usada para encontrar os visinhos mais próximos\n",
    "- Um valor para o parâmetro K, que deve, **preferencialmente**, ser um número ímpar\n",
    "\n",
    "Um valor par acarretaria no **empate** durante a avaliação da quantidade de vizinhos mais próximos, obrigando a implementação de um procedimento de **desempate** no código do modelo, tornando-o mais complexo.\n",
    "\n",
    " Um problema clássico para aplicação desse algoritmo é para determinar em qual candidato um eleitor votará nas eleições. Imaginemos que as **únicas informações** que temos de um determinado eleitor seja a de como os seus **vizinhos imediatos** votarão. Para tentar estimar qual será o voto daquela pessoa, na falta de mais informações, poderíamos considerar que o eleitor será influenciado ao máximo pela forma como os seus vizinhos votarão (*efeito manada*). Logo o **K-NN** faz sua estimativa considerando as categorias dos N vizinhos mais próximos e classifica o novo dado da mesma categoria que a **maioria** de seus vizinhos imediatos."
   ]
  },
  {
   "cell_type": "code",
   "execution_count": 1,
   "id": "b80da23b",
   "metadata": {
    "execution": {
     "iopub.execute_input": "2022-12-22T21:21:17.710011Z",
     "iopub.status.busy": "2022-12-22T21:21:17.709522Z",
     "iopub.status.idle": "2022-12-22T21:21:17.741431Z",
     "shell.execute_reply": "2022-12-22T21:21:17.740168Z"
    },
    "papermill": {
     "duration": 0.039056,
     "end_time": "2022-12-22T21:21:17.744470",
     "exception": false,
     "start_time": "2022-12-22T21:21:17.705414",
     "status": "completed"
    },
    "tags": []
   },
   "outputs": [],
   "source": [
    "import pandas as pd\n",
    "import numpy as np\n",
    "import matplotlib.pyplot as plt\n",
    "df = pd.read_csv('/kaggle/input/banknotes/bank_note.csv')\n",
    "#precisou fazer esse fillna pq tava dando erro na hora de fazer a padronização no StandardScaler\n",
    "df = df.fillna(lambda x: x.median())"
   ]
  },
  {
   "cell_type": "code",
   "execution_count": 2,
   "id": "847a072f",
   "metadata": {
    "execution": {
     "iopub.execute_input": "2022-12-22T21:21:17.751754Z",
     "iopub.status.busy": "2022-12-22T21:21:17.750715Z",
     "iopub.status.idle": "2022-12-22T21:21:19.020304Z",
     "shell.execute_reply": "2022-12-22T21:21:19.018733Z"
    },
    "papermill": {
     "duration": 1.277147,
     "end_time": "2022-12-22T21:21:19.024058",
     "exception": false,
     "start_time": "2022-12-22T21:21:17.746911",
     "status": "completed"
    },
    "tags": []
   },
   "outputs": [
    {
     "name": "stdout",
     "output_type": "stream",
     "text": [
      "(1372, 5)\n"
     ]
    }
   ],
   "source": [
    "#Dividindo o dataset entre treino e teste\n",
    "from sklearn.model_selection import train_test_split\n",
    "print(df.shape)\n",
    "X = df.iloc[:, 0:4]\n",
    "y = df.iloc[:, 4]\n",
    "X_train, X_test, y_train, y_test = train_test_split(X, y, \n",
    "                                                    test_size = 0.3,\n",
    "                                                    random_state = 3)\n"
   ]
  },
  {
   "cell_type": "code",
   "execution_count": 3,
   "id": "99f1e71c",
   "metadata": {
    "execution": {
     "iopub.execute_input": "2022-12-22T21:21:19.030977Z",
     "iopub.status.busy": "2022-12-22T21:21:19.030476Z",
     "iopub.status.idle": "2022-12-22T21:21:19.046798Z",
     "shell.execute_reply": "2022-12-22T21:21:19.045392Z"
    },
    "papermill": {
     "duration": 0.023334,
     "end_time": "2022-12-22T21:21:19.049956",
     "exception": false,
     "start_time": "2022-12-22T21:21:19.026622",
     "status": "completed"
    },
    "tags": []
   },
   "outputs": [],
   "source": [
    "#chamando o StandardScaler para padronizar as variáveis\n",
    "from sklearn.preprocessing import StandardScaler\n",
    "\n",
    "escalonador = StandardScaler()\n",
    "X_train = escalonador.fit_transform(X_train)\n",
    "X_test = escalonador.fit_transform(X_test)"
   ]
  },
  {
   "cell_type": "code",
   "execution_count": 4,
   "id": "5791d88c",
   "metadata": {
    "execution": {
     "iopub.execute_input": "2022-12-22T21:21:19.057129Z",
     "iopub.status.busy": "2022-12-22T21:21:19.056432Z",
     "iopub.status.idle": "2022-12-22T21:21:19.228606Z",
     "shell.execute_reply": "2022-12-22T21:21:19.227560Z"
    },
    "papermill": {
     "duration": 0.179618,
     "end_time": "2022-12-22T21:21:19.232111",
     "exception": false,
     "start_time": "2022-12-22T21:21:19.052493",
     "status": "completed"
    },
    "tags": []
   },
   "outputs": [
    {
     "name": "stdout",
     "output_type": "stream",
     "text": [
      "Matriz de Confusão: \n",
      "[[239   1]\n",
      " [  0 172]]\n",
      "Acuracia do modelo: 0.9975728155339806\n"
     ]
    }
   ],
   "source": [
    "from sklearn.neighbors import KNeighborsClassifier\n",
    "from sklearn.metrics import confusion_matrix, accuracy_score\n",
    "\n",
    "algoritmo = KNeighborsClassifier(n_neighbors = 3)\n",
    "algoritmo.fit(X_train, y_train)\n",
    "previsoes = algoritmo.predict(X_test)\n",
    "matriz_confusao = confusion_matrix(y_test, previsoes)\n",
    "acuracia = accuracy_score(y_test, previsoes)\n",
    "print(f'Matriz de Confusão: \\n{matriz_confusao}')\n",
    "print(f'Acuracia do modelo: {acuracia}')"
   ]
  }
 ],
 "metadata": {
  "kernelspec": {
   "display_name": "Python 3",
   "language": "python",
   "name": "python3"
  },
  "language_info": {
   "codemirror_mode": {
    "name": "ipython",
    "version": 3
   },
   "file_extension": ".py",
   "mimetype": "text/x-python",
   "name": "python",
   "nbconvert_exporter": "python",
   "pygments_lexer": "ipython3",
   "version": "3.7.12"
  },
  "papermill": {
   "default_parameters": {},
   "duration": 12.610741,
   "end_time": "2022-12-22T21:21:20.060621",
   "environment_variables": {},
   "exception": null,
   "input_path": "__notebook__.ipynb",
   "output_path": "__notebook__.ipynb",
   "parameters": {},
   "start_time": "2022-12-22T21:21:07.449880",
   "version": "2.3.4"
  }
 },
 "nbformat": 4,
 "nbformat_minor": 5
}
