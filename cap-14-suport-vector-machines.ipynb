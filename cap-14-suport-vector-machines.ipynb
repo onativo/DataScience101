{
 "cells": [
  {
   "cell_type": "markdown",
   "id": "aba3395f",
   "metadata": {
    "papermill": {
     "duration": 0.002988,
     "end_time": "2022-12-22T00:13:37.525829",
     "exception": false,
     "start_time": "2022-12-22T00:13:37.522841",
     "status": "completed"
    },
    "tags": []
   },
   "source": [
    "Trata-se de mais de um algoritmo de **classificação**, cujo objetivo é traçar uma ou mais retas que dividam de maneira aproximadamente quitativa **com margem máxima**, um conjunto de pontos de um espaço vetorial, que representam os dados do problema. Ele trabalha apenas com dados **linearmente separáveis**, o que pode eventualmente limitar sua aplicação.\n",
    "\n",
    "A solução encontrada pelo SVM é estabelecer uma *margem de separação* entre os dois grupos de pontos **distintos** e **maximizar essa margem**, ou seja, a distância entre os pontos em destaque é a maior possível. Os **dois pontos mais próximos que pertencem a grupos diversos** são chamados de vetores de suporte. O algoritmo só precisa calcular a melhor reta para separar esses pontos, os demais estarão automaticamente agrupados."
   ]
  },
  {
   "cell_type": "code",
   "execution_count": 1,
   "id": "cf8d076a",
   "metadata": {
    "execution": {
     "iopub.execute_input": "2022-12-22T00:13:37.535190Z",
     "iopub.status.busy": "2022-12-22T00:13:37.533986Z",
     "iopub.status.idle": "2022-12-22T00:13:38.694222Z",
     "shell.execute_reply": "2022-12-22T00:13:38.692260Z"
    },
    "papermill": {
     "duration": 1.168511,
     "end_time": "2022-12-22T00:13:38.697322",
     "exception": false,
     "start_time": "2022-12-22T00:13:37.528811",
     "status": "completed"
    },
    "tags": []
   },
   "outputs": [
    {
     "name": "stdout",
     "output_type": "stream",
     "text": [
      "[[60  5]\n",
      " [10 25]]\n"
     ]
    }
   ],
   "source": [
    "#Suport Vector Machine SVM\n",
    "#imports\n",
    "import numpy as np\n",
    "import matplotlib.pyplot as plt\n",
    "from matplotlib.colors import ListedColormap\n",
    "import pandas as pd\n",
    "from sklearn.preprocessing import StandardScaler\n",
    "from sklearn.svm import SVC\n",
    "from sklearn.metrics import confusion_matrix\n",
    "from sklearn.model_selection import train_test_split\n",
    "#load data\n",
    "df = pd.read_csv('/kaggle/input/social/Social_Network_Ads.csv')\n",
    "X = df.iloc[:, [2,3]].values\n",
    "y = df.iloc[:, -1].values\n",
    "\n",
    "#Divisão da amostra\n",
    "X_train, X_test, y_train, y_test = train_test_split(X, y,\n",
    "                                                   test_size = 0.25,\n",
    "                                                   random_state = 3)\n",
    "#padronização dos dados\n",
    "sc = StandardScaler()\n",
    "X_train = sc.fit_transform(X_train)\n",
    "X_test = sc.fit_transform(X_test)\n",
    "\n",
    "#Treinando o classificador sobre o conjunto de teste\n",
    "algoritmo = SVC(kernel = 'linear', random_state = 3)\n",
    "algoritmo.fit(X_train, y_train)\n",
    "\n",
    "\n",
    "#Previsão dos rasultados\n",
    "y_prev = algoritmo.predict(X_test)\n",
    "\n",
    "#Gerando a matriz de confusão\n",
    "cm = confusion_matrix(y_test, y_prev)\n",
    "print(cm)"
   ]
  },
  {
   "cell_type": "code",
   "execution_count": 2,
   "id": "4125d0ac",
   "metadata": {
    "execution": {
     "iopub.execute_input": "2022-12-22T00:13:38.703572Z",
     "iopub.status.busy": "2022-12-22T00:13:38.702659Z",
     "iopub.status.idle": "2022-12-22T00:13:40.064027Z",
     "shell.execute_reply": "2022-12-22T00:13:40.062910Z"
    },
    "papermill": {
     "duration": 1.367143,
     "end_time": "2022-12-22T00:13:40.066536",
     "exception": false,
     "start_time": "2022-12-22T00:13:38.699393",
     "status": "completed"
    },
    "tags": []
   },
   "outputs": [
    {
     "data": {
      "image/png": "[encoded data removed]",
      "text/plain": [
       "<Figure size 432x288 with 1 Axes>"
      ]
     },
     "metadata": {
      "needs_background": "light"
     },
     "output_type": "display_data"
    }
   ],
   "source": [
    "#Visualizando o resultado dos dados de treino\n",
    "_X, _y = X_train, y_train\n",
    "X1, X2 = np.meshgrid(np.arange(start = _X[:, 0].min() - 1, stop = _X[:, 0].max() + 1, step = 0.01),\n",
    "                     np.arange(start = _X[:, 1].min() - 1, stop = _X[:, 1].max() + 1, step = 0.01))\n",
    "\n",
    "plt.contourf(X1, X2, algoritmo.predict(np.array([X1.ravel(),X2.ravel()]).T).reshape(X1.shape),\n",
    "                                       alpha = 0.75, cmap = ListedColormap(('grey', 'black')))\n",
    "plt.xlim(X1.min(), X1.max())\n",
    "plt.ylim(X2.min(), X2.max())\n",
    "for i, j in enumerate(np.unique(_y)):\n",
    "    plt.scatter(_X[_y == j, 0] ,_X[_y == j, 1],\n",
    "        c = ListedColormap(('grey', 'black'))(i), label = j)\n",
    "\n",
    "plt.title('SVM (Dados de Treinamento)')\n",
    "plt.xlabel('Idade')\n",
    "plt.ylabel('Salário Anual (Estimado)')\n",
    "plt.legend()\n",
    "plt.show()"
   ]
  }
 ],
 "metadata": {
  "kernelspec": {
   "display_name": "Python 3",
   "language": "python",
   "name": "python3"
  },
  "language_info": {
   "codemirror_mode": {
    "name": "ipython",
    "version": 3
   },
   "file_extension": ".py",
   "mimetype": "text/x-python",
   "name": "python",
   "nbconvert_exporter": "python",
   "pygments_lexer": "ipython3",
   "version": "3.7.12"
  },
  "papermill": {
   "default_parameters": {},
   "duration": 14.452962,
   "end_time": "2022-12-22T00:13:40.893691",
   "environment_variables": {},
   "exception": null,
   "input_path": "__notebook__.ipynb",
   "output_path": "__notebook__.ipynb",
   "parameters": {},
   "start_time": "2022-12-22T00:13:26.440729",
   "version": "2.3.4"
  }
 },
 "nbformat": 4,
 "nbformat_minor": 5
}
